{
 "cells": [
  {
   "cell_type": "code",
   "execution_count": 48,
   "id": "21ff8cc4",
   "metadata": {},
   "outputs": [
    {
     "data": {
      "text/plain": [
       "0.5"
      ]
     },
     "execution_count": 48,
     "metadata": {},
     "output_type": "execute_result"
    }
   ],
   "source": [
    "# import pandas as pd\n",
    "# from sklearn.tree import DecisionTreeClassifier\n",
    "# from sklearn.model_selection import train_test_split\n",
    "# from sklearn.metrics import accuracy_score\n",
    "# \n",
    "# df_games = pd.read_csv('data/games-ml.csv')\n",
    "# X = df_games.drop(columns='games')  # input data\n",
    "# y = df_games['games']  # output data\n",
    "# X_train, X_test, y_train, y_test = train_test_split(X.values, y, test_size=0.2)\n",
    "# \n",
    "# \n",
    "# model = DecisionTreeClassifier()\n",
    "# model.fit(X_train, y_train)\n",
    "# predictions = model.predict(X_test)\n",
    "\n",
    "# score = accuracy_score(y_test, predictions)\n",
    "# score"
   ]
  },
  {
   "cell_type": "code",
   "execution_count": 51,
   "id": "956d9519",
   "metadata": {},
   "outputs": [
    {
     "data": {
      "text/plain": [
       "array(['fps'], dtype=object)"
      ]
     },
     "execution_count": 51,
     "metadata": {},
     "output_type": "execute_result"
    }
   ],
   "source": [
    "import pandas as pd\n",
    "from sklearn.tree import DecisionTreeClassifier\n",
    "\n",
    "df_games = pd.read_csv('data/games-ml.csv')\n",
    "X = df_games.drop(columns='games')  # input data\n",
    "y = df_games['games']  # output data\n",
    "\n",
    "model = DecisionTreeClassifier()\n",
    "model.fit(X.values, y)\n",
    "predictions = model.predict([[14, 0]])\n",
    "predictions"
   ]
  },
  {
   "cell_type": "code",
   "execution_count": 52,
   "id": "460ea87d",
   "metadata": {},
   "outputs": [
    {
     "data": {
      "text/plain": [
       "['games_suggester.joblib']"
      ]
     },
     "execution_count": 52,
     "metadata": {},
     "output_type": "execute_result"
    }
   ],
   "source": [
    "# Persist model\n",
    "import joblib\n",
    "joblib.dump(model, 'games_suggester.joblib')"
   ]
  },
  {
   "cell_type": "code",
   "execution_count": 54,
   "id": "348a3092",
   "metadata": {},
   "outputs": [
    {
     "data": {
      "text/plain": [
       "array(['fps'], dtype=object)"
      ]
     },
     "execution_count": 54,
     "metadata": {},
     "output_type": "execute_result"
    }
   ],
   "source": [
    "# Load model\n",
    "new_model = joblib.load('games_suggester.joblib')\n",
    "new_predictions = new_model.predict([[14, 0]])\n",
    "new_predictions"
   ]
  }
 ],
 "metadata": {
  "kernelspec": {
   "display_name": "gm_dwh",
   "language": "python",
   "name": "gm_dwh"
  },
  "language_info": {
   "codemirror_mode": {
    "name": "ipython",
    "version": 3
   },
   "file_extension": ".py",
   "mimetype": "text/x-python",
   "name": "python",
   "nbconvert_exporter": "python",
   "pygments_lexer": "ipython3",
   "version": "3.8.10"
  }
 },
 "nbformat": 4,
 "nbformat_minor": 5
}
